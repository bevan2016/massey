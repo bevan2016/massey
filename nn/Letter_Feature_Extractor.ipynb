{
 "cells": [
  {
   "cell_type": "markdown",
   "metadata": {},
   "source": [
    "#### 159740 Assignment 2 Addition\n",
    "## <center>Feature Extration for 26 English Letters</center>\n",
    "<center>17238744 Rebecca Liu</center>\n",
    "<center>18043158 Yonggang Li</center>\n",
    "<center>18042783 Zoe Wang   </center>"
   ]
  },
  {
   "cell_type": "markdown",
   "metadata": {},
   "source": [
    "### Introduction"
   ]
  },
  {
   "cell_type": "markdown",
   "metadata": {},
   "source": [
    "This application is as an addition for a larger group for seminar and assignment 2 and technically based on the <a herf=https://link.springer.com/content/pdf/10.1023%2FA%3A1022606404104.pdf>paper</a> from PETER W. FREY and DAVID J. SLATE.  <br>\n",
    "#### Usage\n",
    "* Scale the image size to width x height = 100 x 180 pixels.\n",
    "* Specify the file path in <font color='blue'>img_file_path</font> in code block 2 below.\n",
    "* Run all the code block and you will get the feature vector at the end of this notebook.\n",
    "\n",
    "#### 16 Features\n",
    "1. The horizontal position, counting pixels from the left edge of the image, of the center of the smallest rectangular box that can be drawn with all \"on\" pixels inside the box. <br>\n",
    "2. The vertical position, counting pixels from the bottom, of the above box. <br>\n",
    "3. The width, in pixels, of the box. <br>\n",
    "4. The height, in pixels, of the box. <br>\n",
    "5. The total number of \"on\" pixels in the character image.<br>\n",
    "6. The mean horizontal position of all \"on\" pixels relative to the center of the box and divided by the width of the box. This feature has a negative value if the image is \"leftheavy\" as would be the case for the letter L. <br> <font color='red' >Never see NEGATIVE values in train and test data set</font> \n",
    "7. The mean vertical position of all \"on\" pixels relative to the center of the box and divided by the height of the box. <br>\n",
    "8. The mean squared value of the horizontal pixel distances as measured in 6 above. This attribute will have a higher value for images whose pixels are more widely separated in the horizontal direction as would be the case for the letters W or M.<br>\n",
    "9. The mean squared value of the vertical pixel distances as measured in 7 above. <br>\n",
    "10. The mean product of the horizontal and vertical distances for each \"on\" pixel as measured in 6 and 7 above. This attribute has a positive value for diagonal lines that run from bottom left to top right and a negative value for diagonal lines from top left to bottom right. <br><font color='red' >Never see NEGATIVE values in train and test data set</font> \n",
    "11. The mean value of the squared horizontal distance tunes the vertical distance for each \"on\" pixel. This measures the correlation of the horizontal variance with the vertical position. <br>\n",
    "12. The mean value of the squared vertical distance times the horizontal distance for each \"on\" pixel. This measures the correlation of the vertical variance with the horizontal position. <br>\n",
    "13. The mean number of edges (an \"on\" pixel immediately to the right of either an \"off pixel or the image boundary) encountered when making systematic scans from left to right at all vertical positions within the box. This measure distinguishes between letters like \"W\" or \"M\" and letters like \"I\" or \"L.\" <br>\n",
    "14. The sum of the vertical positions of edges encountered as measured in 13 above. This feature will give a higher value if there are more edges at the top of the box, as in the letter \"Y.\"<br>\n",
    "15. The mean number of edges (an \"on\" pixel immediately above either an \"off pixel or the image boundary) encountered when making systematic scans of the image from bottom to top over all horizontal positions within the box. <br>\n",
    "16. The sum of horizontal positions of edges encountered as measured in 15 above.<br>\n",
    "\n",
    "To run the application, opencv_python library must be installed properly, run <br> <b>!pip install opencv_python</b> <br>from Jupyter Notebook."
   ]
  },
  {
   "cell_type": "code",
   "execution_count": 1,
   "metadata": {
    "collapsed": false
   },
   "outputs": [],
   "source": [
    "import cv2\n",
    "import numpy as np\n",
    "from matplotlib import pyplot as plt\n",
    "%matplotlib inline"
   ]
  },
  {
   "cell_type": "code",
   "execution_count": 2,
   "metadata": {
    "collapsed": true
   },
   "outputs": [],
   "source": [
    "# initialized with 0\n",
    "f_16 = [0 for x in range(16)]\n",
    "binary_img = None\n",
    "img_file_path = 'letter_imgs\\\\X-1.PNG'"
   ]
  },
  {
   "cell_type": "code",
   "execution_count": 3,
   "metadata": {
    "collapsed": false
   },
   "outputs": [],
   "source": [
    "# Load the specified image and return the original and binarized image\n",
    "def load_and_binarize(img_path):\n",
    "    img_o = cv2.imread(img_path)\n",
    "    ret, img_b = cv2.threshold(img_o, 127, 255, cv2.THRESH_BINARY)\n",
    "    img_h, img_w, img_c = img_b.shape\n",
    "    bin_img = []\n",
    "    for y in range(img_h):\n",
    "        row = []\n",
    "        for x in range(img_w):\n",
    "            colors = img_b[y][x]\n",
    "            if (colors[0] == 255):\n",
    "                row.append(0)\n",
    "            else:\n",
    "                row.append(1)\n",
    "        bin_img.append(row)\n",
    "    return [img_o, img_b, bin_img]"
   ]
  },
  {
   "cell_type": "code",
   "execution_count": 4,
   "metadata": {
    "collapsed": false
   },
   "outputs": [],
   "source": [
    "# calculate the minimal boundary box, return the box [left, top, width, height]\n",
    "def find_boundary_box(img):\n",
    "    left = -1\n",
    "    top = -1\n",
    "    ritht = -1\n",
    "    bottom = -1\n",
    "    img_h = len(img)\n",
    "    img_w = len(img[0])\n",
    "    #scan from top and bottom to find the top and bottom\n",
    "    find_top = 0\n",
    "    find_bottom = False\n",
    "    for y in range(img_h):\n",
    "        for x in range(img_w):\n",
    "            if find_top == False:\n",
    "                if (img[y][x] == 1):\n",
    "                    find_top = True\n",
    "                    top = y\n",
    "            if find_bottom == False:\n",
    "                if (img[img_h-y-1][x] == 1):\n",
    "                    find_bottom = True\n",
    "                    bottom = img_h-y-1\n",
    "            if find_bottom and find_top:\n",
    "                break\n",
    "        if find_bottom and find_top:\n",
    "            break\n",
    "\n",
    "    #scan from left and right to find the left and right\n",
    "    find_left = False\n",
    "    find_right = False\n",
    "    for x in range(img_w):\n",
    "        for y in range(img_h):\n",
    "            if find_left == False:\n",
    "                if (img[y][x] == 1):\n",
    "                    find_left = True\n",
    "                    left = x\n",
    "            if find_right == False:\n",
    "                if (img[y][img_w-x-1] == 1):\n",
    "                    find_right = True\n",
    "                    right = img_w-x-1\n",
    "            if find_left and find_right:\n",
    "                break\n",
    "        if find_left and find_right:\n",
    "            break\n",
    "\n",
    "    return [left, top, right, bottom]"
   ]
  },
  {
   "cell_type": "markdown",
   "metadata": {},
   "source": [
    "#### Load image and binarize, display"
   ]
  },
  {
   "cell_type": "code",
   "execution_count": 5,
   "metadata": {
    "collapsed": false
   },
   "outputs": [
    {
     "data": {
      "image/png": "[encoded data removed]",
      "text/plain": [
       "<matplotlib.figure.Figure at 0xf7640f0>"
      ]
     },
     "metadata": {},
     "output_type": "display_data"
    }
   ],
   "source": [
    "imgs = load_and_binarize(img_file_path)\n",
    "titles = ['Original', 'Binarized', 'On/Off']\n",
    "for i in range(3):\n",
    "    plt.subplot(1,3,i+1)\n",
    "    plt.imshow(imgs[i])\n",
    "    plt.title(titles[i])\n",
    "    plt.xticks([]), plt.yticks([])\n",
    "    \n",
    "binary_img = imgs[2]"
   ]
  },
  {
   "cell_type": "markdown",
   "metadata": {},
   "source": [
    "#### Calulate the boundary box, its position and size"
   ]
  },
  {
   "cell_type": "code",
   "execution_count": 6,
   "metadata": {
    "collapsed": false
   },
   "outputs": [
    {
     "name": "stdout",
     "output_type": "stream",
     "text": [
      "[52, 101, 88, 119]\n"
     ]
    }
   ],
   "source": [
    "# [left, top, right, bottom]\n",
    "g_box = find_boundary_box(binary_img)\n",
    "img_h = len(binary_img)\n",
    "img_w = len(binary_img[0])\n",
    "# 1. box center to left\n",
    "f_16[0] = (g_box[0]+g_box[2])/2\n",
    "# 2. box center to bottom\n",
    "f_16[1] = int(img_h - (g_box[1] + g_box[3])/2 - 1)\n",
    "# 3. width\n",
    "f_16[2] = g_box[2] - g_box[0] + 1\n",
    "# 4. height\n",
    "f_16[3] = g_box[3] - g_box[1] + 1\n",
    "print(f_16[:4])"
   ]
  },
  {
   "cell_type": "markdown",
   "metadata": {},
   "source": [
    "#### Gather the pixels features"
   ]
  },
  {
   "cell_type": "code",
   "execution_count": 7,
   "metadata": {
    "collapsed": false
   },
   "outputs": [
    {
     "name": "stdout",
     "output_type": "stream",
     "text": [
      "[2873, -0.1386102585197608, 0.072749183209657, 682.0285415941524, 1592.6662025757048, 306.3710407239819, 5183.758440654368, -9672.613296206056]\n"
     ]
    }
   ],
   "source": [
    "# 5. The total number of \"on\" pixels in the character image.\n",
    "def total_on_pixels(img):\n",
    "    on_pixels = 0\n",
    "    for i in range(len(img)):\n",
    "        on_pixels += np.sum(img[i])\n",
    "    return on_pixels\n",
    "f_16[4] = total_on_pixels(binary_img)\n",
    "\n",
    "# horizontal and vertical distances of all 'on' pixels\n",
    "def h_v_distances(img):\n",
    "    origin_h = len(binary_img)\n",
    "    h_dis = []\n",
    "    v_dis = []\n",
    "    h_center = f_16[0]\n",
    "    v_center = f_16[1]\n",
    "    for row in range(g_box[1], g_box[3]):\n",
    "        for col in range(g_box[0], g_box[2]):\n",
    "            if binary_img[row][col] == 1:\n",
    "                h_dis.append(col - h_center)\n",
    "                v_dis.append(origin_h - row - 1 - v_center)\n",
    "    return h_dis, v_dis\n",
    "\n",
    "total_on = float(f_16[4])\n",
    "h_dis, v_dis = h_v_distances(binary_img)\n",
    "# 6. The mean horizontal position of all \"on\" pixels relative to the center of the box and divided by the width of the box\n",
    "f_16[5] = np.sum(h_dis)/total_on/f_16[2]\n",
    "# 7. The mean vertical position of all \"on\" pixels relative to the center of the box and divided by the height of the box.\n",
    "f_16[6] = np.sum(v_dis)/total_on/f_16[3]\n",
    "# 8. The mean squared value of the horizontal pixel distances as measured in 6 above.\n",
    "f_16[7] = np.sum(np.power(h_dis, 2))/total_on\n",
    "# 9. The mean squared value of the vertical pixel distances as measured in 7 above\n",
    "f_16[8] = np.sum(np.power(v_dis, 2))/total_on\n",
    "# 10. The mean product of the horizontal and vertical distances for each \"on\" pixel as measured in 6 and 7 above\n",
    "f_16[9] = np.dot(h_dis, v_dis)/total_on\n",
    "# 11. The mean value of the squared horizontal distance times the vertical distance for each \"on\" pixel\n",
    "f_16[10] = np.dot(np.power(h_dis, 2), v_dis)/total_on\n",
    "# 12. The mean value of the squared vertical distance times the horizontal distance for each \"on\" pixel\n",
    "f_16[11] = np.dot(np.power(v_dis, 2), h_dis)/total_on\n",
    "\n",
    "print(f_16[4:12])"
   ]
  },
  {
   "cell_type": "markdown",
   "metadata": {},
   "source": [
    "#### Gather the edge features"
   ]
  },
  {
   "cell_type": "code",
   "execution_count": 8,
   "metadata": {
    "collapsed": false
   },
   "outputs": [],
   "source": [
    "# perform two scans: from left to right, from bottom to top. Returns two array for the edge positions of each scan \n",
    "def find_edges(img):\n",
    "    img_h = len(img)\n",
    "    box_w = f_16[2]\n",
    "    box_h = f_16[3]\n",
    "    box_left = g_box[0]\n",
    "    box_right = g_box[2]\n",
    "    box_top = g_box[1]\n",
    "    \n",
    "    h_edges = 0\n",
    "    v_pos = 0\n",
    "    h_edges_pos = [-1 for x in range(box_h)]\n",
    "    for i in range(box_w):\n",
    "        x = box_left + i\n",
    "        for j in range(box_h):\n",
    "            y = box_top + j\n",
    "            if binary_img[y][x] == 1:\n",
    "                if h_edges_pos[i] == -1:\n",
    "                    h_edges_pos[i] = img_h - y - 1\n",
    "            else:\n",
    "                if h_edges_pos[j] > -1:\n",
    "                    v_pos += h_edges_pos[j]\n",
    "                    h_edges_pos[j] = -1\n",
    "                    h_edges += 1\n",
    "    v_edges = 0\n",
    "    h_pos = 0\n",
    "    v_edges_pos = [-1 for x in range(box_w)]\n",
    "    for i in range(box_h):\n",
    "        y = box_top + i\n",
    "        for j in range(box_w):\n",
    "            x = box_left + j\n",
    "            if binary_img[y][x] == 1:\n",
    "                if v_edges_pos[j] == -1:\n",
    "                    v_edges_pos[j] = x\n",
    "            else:\n",
    "                if v_edges_pos[j] > -1:\n",
    "                    h_pos += v_edges_pos[j]\n",
    "                    v_edges_pos[j] = -1\n",
    "                    v_edges += 1\n",
    "    return float(h_edges)/box_h, v_pos, float(v_edges)/box_w, h_pos\n",
    "\n",
    "h_mean, v_pos, v_mean, h_pos = find_edges(binary_img)\n",
    "# 13. The mean number of edges (an \"on\" pixel immediately to the right of either an \"off\" pixel or the image boundary) \n",
    "#     encountered when making systematic scans from left to right at all vertical positions within the box.\n",
    "f_16[12] = h_mean\n",
    "# 14. The sum of the vertical positions of edges encountered as measured in 13 above. This feature will give a higher value if\n",
    "#     there are more edges at the top of the box, as in the letter \"Y.“\n",
    "f_16[13] = v_pos\n",
    "# 15. The mean number of edges (an \"on\" pixel immediately above either an \"off\" pixel or the image boundary) encountered when \n",
    "#     making systematic scans of the image from bottom to top over all horizontal positions within the box.\n",
    "f_16[14] = v_mean\n",
    "# 16. The sum of horizontal positions of edges encountered as measured in 15 above.\n",
    "f_16[15] = h_pos"
   ]
  },
  {
   "cell_type": "markdown",
   "metadata": {},
   "source": [
    "#### Scale the feature vector\n",
    "Algorithm is <b>V_scaled = V*15/max(V)</b> <br>\n",
    "Let's define the maximum value for each feature, since I don't have all images to find the maximum value for each feature. The values are estiamted based on the image size which has been scaled to 100x180."
   ]
  },
  {
   "cell_type": "code",
   "execution_count": 9,
   "metadata": {
    "collapsed": true
   },
   "outputs": [],
   "source": [
    "FEATURE_MAX = [70, 150, 100, 180, 100*180*0.4, 0.2, 0.1, 50*50, 90*90, 50*90*0.15, 50*50*10, 5*90*90, 4, 100*180, 4, 100*120]"
   ]
  },
  {
   "cell_type": "code",
   "execution_count": 10,
   "metadata": {
    "collapsed": false
   },
   "outputs": [
    {
     "name": "stdout",
     "output_type": "stream",
     "text": [
      "Before scale: \n",
      "[52, 101, 88, 119, 2873, -0.1386102585197608, 0.072749183209657, 682.0285415941524, 1592.6662025757048, 306.3710407239819, 5183.758440654368, -9672.613296206056, 1.0084033613445378, 15871, 1.5113636363636365, 6202]\n",
      "\n",
      "After scale: \n",
      "[11, 10, 13, 9, 5, -10, 10, 4, 2, 6, 3, -3, 3, 13, 5, 7]\n"
     ]
    }
   ],
   "source": [
    "f_16_scaled = [0 for x in range(16)]\n",
    "print('Before scale: ')\n",
    "print (f_16)\n",
    "for i in range(len(f_16)):\n",
    "    f_16_scaled[i] = int(float(f_16[i])/FEATURE_MAX[i]*15)\n",
    "print('\\nAfter scale: ')\n",
    "print(f_16_scaled)"
   ]
  },
  {
   "cell_type": "markdown",
   "metadata": {},
   "source": [
    "### Reference\n",
    "[1] https://link.springer.com/content/pdf/10.1023%2FA%3A1022606404104.pdf <br>\n",
    "[2] https://opencv-python-tutroals.readthedocs.io/en/latest/py_tutorials/py_imgproc/py_filtering/py_filtering.html"
   ]
  }
 ],
 "metadata": {
  "kernelspec": {
   "display_name": "Python 2",
   "language": "python",
   "name": "python2"
  },
  "language_info": {
   "codemirror_mode": {
    "name": "ipython",
    "version": 2
   },
   "file_extension": ".py",
   "mimetype": "text/x-python",
   "name": "python",
   "nbconvert_exporter": "python",
   "pygments_lexer": "ipython2",
   "version": "2.7.10"
  }
 },
 "nbformat": 4,
 "nbformat_minor": 1
}
